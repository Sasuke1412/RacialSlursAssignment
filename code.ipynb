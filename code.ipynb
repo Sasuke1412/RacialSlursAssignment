{
  "nbformat": 4,
  "nbformat_minor": 0,
  "metadata": {
    "colab": {
      "name": "code.ipynb",
      "provenance": [],
      "collapsed_sections": []
    },
    "kernelspec": {
      "name": "python3",
      "display_name": "Python 3"
    },
    "language_info": {
      "name": "python"
    }
  },
  "cells": [
    {
      "cell_type": "code",
      "metadata": {
        "colab": {
          "base_uri": "https://localhost:8080/"
        },
        "id": "jwZYeTSoaUIO",
        "outputId": "c289ac8b-ff5e-4ded-fa76-d86743efd0ed"
      },
      "source": [
        "import pandas as pd\n",
        "from google.colab import drive\n",
        "drive.mount('/content/drive')"
      ],
      "execution_count": 1,
      "outputs": [
        {
          "output_type": "stream",
          "name": "stdout",
          "text": [
            "Mounted at /content/drive\n"
          ]
        }
      ]
    },
    {
      "cell_type": "code",
      "metadata": {
        "colab": {
          "base_uri": "https://localhost:8080/"
        },
        "id": "h_LYqHtBgkO6",
        "outputId": "b1cc3685-b79e-4e3c-8cde-794259d058eb"
      },
      "source": [
        "racial_slurs_words= pd.read_excel('/content/drive/My Drive/1_Python_assignment/slurs_file_.xlsx')\n",
        "racial_slurs_words=racial_slurs_words['Slur']\n",
        "racial_slurs_words.dropna()\n",
        "#print('ABC' in racial_slurs_words.values)\n",
        "print(racial_slurs_words)"
      ],
      "execution_count": 2,
      "outputs": [
        {
          "output_type": "stream",
          "name": "stdout",
          "text": [
            "0           539\n",
            "1           925\n",
            "2         ?????\n",
            "3            AA\n",
            "4           ABC\n",
            "         ...   \n",
            "2639        Zog\n",
            "2640    Zoo Ape\n",
            "2641       Zoot\n",
            "2642      Zorba\n",
            "2643       Zulu\n",
            "Name: Slur, Length: 2644, dtype: object\n"
          ]
        }
      ]
    },
    {
      "cell_type": "code",
      "metadata": {
        "id": "rfgwm2L8c7Yl"
      },
      "source": [
        ""
      ],
      "execution_count": null,
      "outputs": []
    },
    {
      "cell_type": "code",
      "metadata": {
        "id": "5l8pUjnAa49p"
      },
      "source": [
        "def find_dop_score(test):\n",
        "  conjunctions=['after', 'although', 'and', 'as', 'because', 'before', 'both', 'but', 'by', 'for', 'if', 'in', 'lest',\n",
        "                'nor', 'once', 'only', 'or', 'provided', 'since', 'so', 'than', 'that', 'though', 'though', 'till', 'unless', 'until', 'when', \n",
        "                'whenever', 'where', 'wherever', 'while', 'yet']\n",
        "  final_ans=0\n",
        "  for i in test:\n",
        "    #using comma to separate in sentences\n",
        "    if i.startswith('@'):\n",
        "      test=test.replace(i, ',')\n",
        "    if i=='.' or i==',' or i==\"!\" or i==';':\n",
        "      test=test.replace(i,\",\")\n",
        "\n",
        "  sentences=test.split(',')\n",
        "  for sente in sentences:\n",
        "    res=[]\n",
        "    #print(sente)\n",
        "    words=sente.split(' ')\n",
        "    for i in words:\n",
        "      if i.lower() in conjunctions:\n",
        "        #print(\"checnking words\")\n",
        "        #print(words)\n",
        "        pos=words.index(i)\n",
        "        temp2=words[0:pos]\n",
        "        #print(\"checking part res\")\n",
        "        res.append(temp2)\n",
        "        #print(res)\n",
        "        words=words[pos+1:]\n",
        "        #print('after cut:')\n",
        "        #print(words)\n",
        "    res.append(words)\n",
        "    for r in res:\n",
        "      count=0\n",
        "      if len(res)>1:\n",
        "        for word in r:\n",
        "          if word in racial_slurs_words.values:\n",
        "            count+=1\n",
        "      else:\n",
        "        for word in r:\n",
        "          if word in racial_slurs_words.values:\n",
        "            count+=1\n",
        "      final_ans=final_ans+(count/len(res))\n",
        "  final_ans=final_ans/len(sentences)\n",
        "  return (final_ans)"
      ],
      "execution_count": 3,
      "outputs": []
    },
    {
      "cell_type": "code",
      "metadata": {
        "id": "KrBTM2Q2pOg4"
      },
      "source": [
        ""
      ],
      "execution_count": null,
      "outputs": []
    },
    {
      "cell_type": "code",
      "metadata": {
        "colab": {
          "base_uri": "https://localhost:8080/"
        },
        "id": "beYhKhMBkBew",
        "outputId": "69879496-5b35-4df9-c98d-5d4a10e00e1b"
      },
      "source": [
        "tweets= pd.read_csv('/content/drive/My Drive/1_Python_assignment/tweets_.csv')\n",
        "#dropping enery values in column 'tweet'\n",
        "tweets.dropna()\n",
        "tweets['DOP'] = tweets['tweet'].apply(find_dop_score)\n",
        "print(tweets)\n"
      ],
      "execution_count": 4,
      "outputs": [
        {
          "output_type": "stream",
          "name": "stdout",
          "text": [
            "                                                   tweet  DOP\n",
            "0       @user when a father is dysfunctional and is s...  0.0\n",
            "1      @user @user thanks for #lyft credit i can't us...  0.0\n",
            "2                                    bihday your majesty  0.0\n",
            "3      #model   i love u take with u all the time in ...  0.0\n",
            "4                 factsguide: society now    #motivation  0.0\n",
            "...                                                  ...  ...\n",
            "31957  ate @user isz that youuu?ðððððð...  0.0\n",
            "31958    to see nina turner on the airwaves trying to...  0.0\n",
            "31959  listening to sad songs on a monday morning otw...  0.0\n",
            "31960  @user #sikh #temple vandalised in in #calgary,...  0.0\n",
            "31961                   thank you @user for you follow    0.0\n",
            "\n",
            "[31962 rows x 2 columns]\n"
          ]
        }
      ]
    },
    {
      "cell_type": "code",
      "metadata": {
        "colab": {
          "base_uri": "https://localhost:8080/"
        },
        "id": "QJ1Z-R40U3pz",
        "outputId": "d9d55eed-381d-41cf-dfc8-880334b1684f"
      },
      "source": [
        "print(tweets[tweets['DOP']>0.0])"
      ],
      "execution_count": 5,
      "outputs": [
        {
          "output_type": "stream",
          "name": "stdout",
          "text": [
            "                                                   tweet       DOP\n",
            "16131   @user credit @user on instagram  has #ahntrio...  0.166667\n",
            "19497  can you tell i didn't wake up   ????? ...... n...  0.090909\n",
            "25325   @user who is   for this #weekend like #daebak...  0.250000\n",
            "26500  istg the kids in the cinema yesterday had ????...  0.333333\n"
          ]
        }
      ]
    },
    {
      "cell_type": "code",
      "metadata": {
        "id": "urpDOSSikBhL",
        "colab": {
          "base_uri": "https://localhost:8080/"
        },
        "outputId": "5b8b7877-c33e-4e6a-f2f4-2f4530b4a3f4"
      },
      "source": [
        "find_dop_score('ABC is a kind and Do you know why. I feel it')"
      ],
      "execution_count": 6,
      "outputs": [
        {
          "output_type": "execute_result",
          "data": {
            "text/plain": [
              "0.25"
            ]
          },
          "metadata": {},
          "execution_count": 6
        }
      ]
    },
    {
      "cell_type": "code",
      "metadata": {
        "id": "e2RzqRoekBkp"
      },
      "source": [
        ""
      ],
      "execution_count": null,
      "outputs": []
    },
    {
      "cell_type": "code",
      "metadata": {
        "id": "2huJ5Coda35D"
      },
      "source": [
        ""
      ],
      "execution_count": null,
      "outputs": []
    }
  ]
}